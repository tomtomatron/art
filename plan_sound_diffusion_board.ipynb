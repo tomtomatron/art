{
 "cells": [
  {
   "cell_type": "code",
   "execution_count": 1,
   "metadata": {},
   "outputs": [],
   "source": [
    "import numpy as np\n",
    "import scipy\n",
    "import matplotlib.pyplot as plt"
   ]
  },
  {
   "cell_type": "code",
   "execution_count": 74,
   "metadata": {},
   "outputs": [],
   "source": [
    "def get_golden_ratio():\n",
    "    golden_ratio = (1 + np.sqrt(5)) /2\n",
    "    return golden_ratio\n",
    "\n",
    "def get_a_from_b(b):\n",
    "    golden_ratio = get_golden_ratio()\n",
    "    return b * golden_ratio\n",
    "\n",
    "def get_b_from_a(a):\n",
    "    golden_ratio = get_golden_ratio()\n",
    "    return a / golden_ratio\n",
    "\n",
    "def get_a_random(max_level, size=1):\n",
    "    bs = np.arange(1,max_level)\n",
    "    b = np.random.choice(bs, size)\n",
    "    a = get_a_from_b(b)\n",
    "    return a"
   ]
  },
  {
   "cell_type": "code",
   "execution_count": 76,
   "metadata": {},
   "outputs": [],
   "source": [
    "def get_peg_ids():\n",
    "    return ['A', 'B', 'C', 'D', 'E', 'F', 'G']\n",
    "\n",
    "def get_peg_counts():\n",
    "    return [4, 4, 4, 4, 8, 8, 8]\n",
    "\n",
    "def get_peg_lengths():\n",
    "    return [24, 13, 14, 20, 15, 8, 19]\n",
    "\n",
    "def get_peg_diameters():\n",
    "    return [4, 4, 4, 4, 4, 4, 4]\n",
    "\n",
    "def get_peg_radii():\n",
    "    diameters = get_peg_diameters()\n",
    "    radii = list(np.asarray(diameters) / 2)\n",
    "    return radii\n",
    "\n",
    "def get_peg_areas():\n",
    "    radii = get_peg_radii()\n",
    "    areas = 2 * np.pi * (np.asarray(radii)**2)\n",
    "    areas = list(areas)\n",
    "    return areas\n",
    "\n",
    "def get_total_area():\n",
    "    areas = get_peg_areas()\n",
    "    counts = get_peg_counts()\n",
    "    total_area = np.sum(np.dot(areas, counts))\n",
    "    return total_area\n",
    "\n",
    "def get_total_count():\n",
    "    counts = get_peg_counts()\n",
    "    total_count = sum(counts)\n",
    "    return total_count\n",
    "\n",
    "def get_all_peg_lengths():\n",
    "    counts = get_peg_counts()\n",
    "    lengths = get_peg_lengths()\n",
    "    all_peg_lengths = []\n",
    "    for i,count in enumerate(counts):\n",
    "        all_peg_lengths.extend([lengths[i]] * count)\n",
    "    return all_peg_lengths\n",
    "\n",
    "def get_all_peg_areas():\n",
    "    counts = get_peg_counts()\n",
    "    areas = get_peg_areas()\n",
    "    all_peg_areas = []\n",
    "    for i,count in enumerate(counts):\n",
    "        all_peg_areas.extend([areas[i]] * count)\n",
    "    return all_peg_areas\n",
    "\n",
    "def test_get_pegs():\n",
    "    ids = get_peg_ids()\n",
    "    counts = get_peg_counts()\n",
    "    lengths = get_peg_lengths()\n",
    "    diameters = get_peg_diameters()\n",
    "    radii = get_peg_radii()\n",
    "    areas = get_peg_areas()\n",
    "    assert len(ids) == len(counts)\n",
    "    assert len(counts) == len(lengths)\n",
    "    assert len(lengths) == len(diameters)\n",
    "    assert len(diameters) == len(radii)\n",
    "    assert len(areas) == len(radii)\n",
    "    \n",
    "    \n",
    "    \n",
    "def get_peg_dict():\n",
    "    peg_dict = dict()\n",
    "    ids = get_peg_ids()\n",
    "    counts = get_peg_counts()\n",
    "    lengths = get_peg_lengths()\n",
    "    radii = get_peg_radii()\n",
    "    diameters = get_peg_diameters()\n",
    "    areas = get_peg_areas()\n",
    "    total_area = get_total_area()\n",
    "    total_count = get_total_count()\n",
    "    all_peg_lengths = get_all_peg_lengths()\n",
    "    peg_dict['ids'] = ids\n",
    "    peg_dict['counts'] = counts\n",
    "    peg_dict['lengths'] = lengths\n",
    "    peg_dict['radii'] = radii\n",
    "    peg_dict['diameters'] = diameters\n",
    "    peg_dict['areas'] = areas\n",
    "    peg_dict['total_area'] = total_area\n",
    "    peg_dict['total_count'] = total_count\n",
    "    peg_dict['all_peg_lengths'] = all_peg_lengths\n",
    "    return peg_dict\n",
    "\n",
    "\n",
    "test_get_pegs()"
   ]
  },
  {
   "cell_type": "code",
   "execution_count": 77,
   "metadata": {},
   "outputs": [
    {
     "data": {
      "text/plain": [
       "{'ids': ['A', 'B', 'C', 'D', 'E', 'F', 'G'],\n",
       " 'counts': [4, 4, 4, 4, 8, 8, 8],\n",
       " 'lengths': [24, 13, 14, 20, 15, 8, 19],\n",
       " 'radii': [2.0, 2.0, 2.0, 2.0, 2.0, 2.0, 2.0],\n",
       " 'diameters': [4, 4, 4, 4, 4, 4, 4],\n",
       " 'areas': [25.132741228718345,\n",
       "  25.132741228718345,\n",
       "  25.132741228718345,\n",
       "  25.132741228718345,\n",
       "  25.132741228718345,\n",
       "  25.132741228718345,\n",
       "  25.132741228718345],\n",
       " 'total_area': 1005.3096491487338,\n",
       " 'total_count': 40,\n",
       " 'all_peg_lengths': [24,\n",
       "  24,\n",
       "  24,\n",
       "  24,\n",
       "  13,\n",
       "  13,\n",
       "  13,\n",
       "  13,\n",
       "  14,\n",
       "  14,\n",
       "  14,\n",
       "  14,\n",
       "  20,\n",
       "  20,\n",
       "  20,\n",
       "  20,\n",
       "  15,\n",
       "  15,\n",
       "  15,\n",
       "  15,\n",
       "  15,\n",
       "  15,\n",
       "  15,\n",
       "  15,\n",
       "  8,\n",
       "  8,\n",
       "  8,\n",
       "  8,\n",
       "  8,\n",
       "  8,\n",
       "  8,\n",
       "  8,\n",
       "  19,\n",
       "  19,\n",
       "  19,\n",
       "  19,\n",
       "  19,\n",
       "  19,\n",
       "  19,\n",
       "  19]}"
      ]
     },
     "execution_count": 77,
     "metadata": {},
     "output_type": "execute_result"
    }
   ],
   "source": [
    "peg_dict = get_peg_dict()\n",
    "peg_dict"
   ]
  },
  {
   "cell_type": "code",
   "execution_count": 84,
   "metadata": {},
   "outputs": [],
   "source": [
    "peg_dict = get_peg_dict()\n",
    "golden_ratio = get_golden_ratio()\n",
    "total_count = peg_dict['total_count']\n",
    "a = a_plus_b / golden_ratio\n",
    "b = a_plus_b - a"
   ]
  },
  {
   "cell_type": "code",
   "execution_count": 102,
   "metadata": {},
   "outputs": [],
   "source": [
    "def a_plus_b_to_a(a_plus_b):\n",
    "    golden_ratio = get_golden_ratio()\n",
    "    a = golden_ratio * a_plus_b / (golden_ratio + 1)\n",
    "    return a\n",
    "\n",
    "def a_plus_b_to_b(a_plus_b):\n",
    "    golden_ratio = get_golden_ratio()\n",
    "    a = a_plus_b_to_a(a_plus_b)\n",
    "    b = a_plus_b - a\n",
    "    return b"
   ]
  },
  {
   "cell_type": "code",
   "execution_count": 107,
   "metadata": {},
   "outputs": [
    {
     "data": {
      "text/plain": [
       "24.721359549995793"
      ]
     },
     "execution_count": 107,
     "metadata": {},
     "output_type": "execute_result"
    }
   ],
   "source": [
    "a"
   ]
  },
  {
   "cell_type": "code",
   "execution_count": 108,
   "metadata": {},
   "outputs": [
    {
     "data": {
      "text/plain": [
       "15.278640450004207"
      ]
     },
     "execution_count": 108,
     "metadata": {},
     "output_type": "execute_result"
    }
   ],
   "source": [
    "b"
   ]
  },
  {
   "cell_type": "code",
   "execution_count": 155,
   "metadata": {},
   "outputs": [],
   "source": [
    "def get_fibonacci_sequence(n):\n",
    "    assert n > 2\n",
    "    x = [1, 1]\n",
    "    i = 2\n",
    "    while len(x) < n: \n",
    "        x.append(x[i-1] + x[i-2])\n",
    "        i += 1\n",
    "    return x"
   ]
  },
  {
   "cell_type": "code",
   "execution_count": 168,
   "metadata": {},
   "outputs": [],
   "source": [
    "def get_fibonacci_area_sequence(n):\n",
    "    fibonacci_sequence = get_fibonacci_sequence(n)\n",
    "    fibonacci_area_sequence = [x**2 for x in fibonacci_sequence]\n",
    "    return fibonacci_area_sequence\n",
    "\n",
    "def get_rapstine_sequence(n):\n",
    "    fibonacci_area_sequence = get_fibonacci_area_sequence(n)\n",
    "    rapstine_sequence = np.cumsum(fibonacci_area_sequence)\n",
    "    return rapstine_sequence"
   ]
  },
  {
   "cell_type": "code",
   "execution_count": 169,
   "metadata": {},
   "outputs": [
    {
     "name": "stdout",
     "output_type": "stream",
     "text": [
      "[1, 1, 2, 3, 5, 8, 13]\n"
     ]
    }
   ],
   "source": [
    "print(get_fibonacci_sequence(7))"
   ]
  },
  {
   "cell_type": "code",
   "execution_count": 170,
   "metadata": {},
   "outputs": [
    {
     "name": "stdout",
     "output_type": "stream",
     "text": [
      "[1, 1, 4, 9, 25, 64, 169]\n"
     ]
    }
   ],
   "source": [
    "print(get_fibonacci_area_sequence(7))"
   ]
  },
  {
   "cell_type": "code",
   "execution_count": 171,
   "metadata": {},
   "outputs": [
    {
     "name": "stdout",
     "output_type": "stream",
     "text": [
      "[  1   2   6  15  40 104 273]\n"
     ]
    }
   ],
   "source": [
    "print(get_rapstine_sequence(7))"
   ]
  },
  {
   "cell_type": "code",
   "execution_count": 196,
   "metadata": {},
   "outputs": [],
   "source": [
    "peg_dict = get_peg_dict()\n",
    "golden_ratio = get_golden_ratio()\n",
    "a_plus_b = peg_dict['total_count']\n",
    "max_width = np.ceil(a_plus_b)\n",
    "fibonacci_sequence = get_fibonacci_sequence(max_width)\n",
    "fibonacci_area_sequence = get_fibonacci_area_sequence(max_width)\n",
    "rapstine_sequence = get_rapstine_sequence(max_width)"
   ]
  },
  {
   "cell_type": "code",
   "execution_count": 197,
   "metadata": {},
   "outputs": [],
   "source": [
    "i = np.argwhere(rapstine_sequence <= a_plus_b)[-1,0]"
   ]
  },
  {
   "cell_type": "code",
   "execution_count": 204,
   "metadata": {},
   "outputs": [
    {
     "data": {
      "text/plain": [
       "40"
      ]
     },
     "execution_count": 204,
     "metadata": {},
     "output_type": "execute_result"
    }
   ],
   "source": [
    "a = fibonacci_sequence[i]\n",
    "b = fibonacci_sequence[i-1]\n",
    "np.sum(fibonacci_area_sequence[0:i+1])"
   ]
  },
  {
   "cell_type": "code",
   "execution_count": 205,
   "metadata": {},
   "outputs": [
    {
     "data": {
      "text/plain": [
       "4"
      ]
     },
     "execution_count": 205,
     "metadata": {},
     "output_type": "execute_result"
    }
   ],
   "source": [
    "i"
   ]
  },
  {
   "cell_type": "code",
   "execution_count": null,
   "metadata": {},
   "outputs": [],
   "source": []
  },
  {
   "cell_type": "code",
   "execution_count": 172,
   "metadata": {},
   "outputs": [
    {
     "ename": "SyntaxError",
     "evalue": "invalid syntax (<ipython-input-172-ec64a45ef7f2>, line 3)",
     "output_type": "error",
     "traceback": [
      "\u001b[0;36m  File \u001b[0;32m\"<ipython-input-172-ec64a45ef7f2>\"\u001b[0;36m, line \u001b[0;32m3\u001b[0m\n\u001b[0;31m    golden_ratio = get_golden_ratio():\u001b[0m\n\u001b[0m                                     ^\u001b[0m\n\u001b[0;31mSyntaxError\u001b[0m\u001b[0;31m:\u001b[0m invalid syntax\n"
     ]
    }
   ],
   "source": [
    "def get_peg_dict_to_board(peg_dict):\n",
    "    peg_dict = get_peg_dict()\n",
    "    golden_ratio = get_golden_ratio():\n",
    "    a_plus_b = peg_dict['total_count']\n",
    "    max_width = np.ceil(a_plus_b)\n",
    "    fibonacci_sequence = get_fibonacci_sequence(max_width)\n",
    "    rapstine_sequence = get_rapstine_sequence(max_width) "
   ]
  },
  {
   "cell_type": "code",
   "execution_count": 63,
   "metadata": {},
   "outputs": [
    {
     "data": {
      "image/png": "[encoded data removed]",
      "text/plain": [
       "<Figure size 432x288 with 1 Axes>"
      ]
     },
     "metadata": {
      "needs_background": "light"
     },
     "output_type": "display_data"
    },
    {
     "data": {
      "image/png": "[encoded data removed]",
      "text/plain": [
       "<Figure size 432x288 with 1 Axes>"
      ]
     },
     "metadata": {
      "needs_background": "light"
     },
     "output_type": "display_data"
    }
   ],
   "source": []
  },
  {
   "cell_type": "code",
   "execution_count": 53,
   "metadata": {},
   "outputs": [
    {
     "data": {
      "text/plain": [
       "{'ids': ['A', 'B', 'C', 'D', 'E', 'F', 'G'],\n",
       " 'counts': [4, 4, 4, 4, 8, 8, 8],\n",
       " 'lengths': [24, 13, 14, 20, 15, 8, 19],\n",
       " 'diameters': [4, 3.5, 4, 4, 4, 4, 4],\n",
       " 'areas': [25.132741228718345,\n",
       "  6.283185307179586,\n",
       "  25.132741228718345,\n",
       "  25.132741228718345,\n",
       "  25.132741228718345,\n",
       "  25.132741228718345,\n",
       "  25.132741228718345],\n",
       " 'total_area': 157.07963267948966}"
      ]
     },
     "execution_count": 53,
     "metadata": {},
     "output_type": "execute_result"
    }
   ],
   "source": []
  },
  {
   "cell_type": "code",
   "execution_count": null,
   "metadata": {},
   "outputs": [],
   "source": []
  },
  {
   "cell_type": "code",
   "execution_count": null,
   "metadata": {},
   "outputs": [],
   "source": []
  },
  {
   "cell_type": "code",
   "execution_count": 10,
   "metadata": {},
   "outputs": [
    {
     "data": {
      "text/plain": [
       "{'ids': ['A', 'B', 'C', 'D', 'E', 'F', 'G'],\n",
       " 'counts': [4, 4, 4, 4, 8, 8, 8],\n",
       " 'lengths': [24, 14, 13, 20, 15, 8, 4],\n",
       " 'diameters': [4, 3.5, 4, 20, 15, 8, 19],\n",
       " 'areas': [25.132741228718345,\n",
       "  6.283185307179586,\n",
       "  25.132741228718345,\n",
       "  628.3185307179587,\n",
       "  307.8760800517997,\n",
       "  100.53096491487338,\n",
       "  508.93800988154646],\n",
       " 'total_area': 1602.2122533307943}"
      ]
     },
     "execution_count": 10,
     "metadata": {},
     "output_type": "execute_result"
    }
   ],
   "source": []
  },
  {
   "cell_type": "code",
   "execution_count": 121,
   "metadata": {},
   "outputs": [],
   "source": [
    "total_area = get_total_area()"
   ]
  },
  {
   "cell_type": "code",
   "execution_count": 122,
   "metadata": {},
   "outputs": [
    {
     "data": {
      "text/plain": [
       "1602.2122533307943"
      ]
     },
     "execution_count": 122,
     "metadata": {},
     "output_type": "execute_result"
    }
   ],
   "source": [
    "total_area"
   ]
  },
  {
   "cell_type": "code",
   "execution_count": 43,
   "metadata": {},
   "outputs": [
    {
     "data": {
      "text/plain": [
       "array([ 81., 486., 405., 405., 243., 162., 162., 324., 162., 324., 324.,\n",
       "       405., 405., 486., 243., 486., 162., 162., 486.,  81., 243., 162.,\n",
       "       324., 405.,  81., 162.,  81.,  81., 243.,  81.,  81.,  81., 324.,\n",
       "        81., 243., 405., 243., 243., 324., 405.])"
      ]
     },
     "execution_count": 43,
     "metadata": {},
     "output_type": "execute_result"
    }
   ],
   "source": [
    "n_panel"
   ]
  },
  {
   "cell_type": "code",
   "execution_count": 81,
   "metadata": {},
   "outputs": [],
   "source": [
    "a_panel = int(31)\n",
    "b_panel = int(np.floor(get_b_from_a(a_panel)))\n",
    "n_panel = int(a_panel * b_panel)\n",
    "a = get_a_random(4, int(n_panel/2))\n",
    "b = get_b_from_a(a)\n",
    "ab = np.r_[a, b]\n",
    "ab = np.random.choice(ab, n_panel)\n",
    "panel = ab.reshape((b_panel, a_panel))"
   ]
  },
  {
   "cell_type": "code",
   "execution_count": 82,
   "metadata": {},
   "outputs": [
    {
     "data": {
      "text/plain": [
       "589"
      ]
     },
     "execution_count": 82,
     "metadata": {},
     "output_type": "execute_result"
    }
   ],
   "source": [
    "n_panel"
   ]
  },
  {
   "cell_type": "code",
   "execution_count": 83,
   "metadata": {},
   "outputs": [
    {
     "data": {
      "text/plain": [
       "array([1.        , 1.61803399, 2.        , 3.        , 3.23606798,\n",
       "       4.85410197])"
      ]
     },
     "execution_count": 83,
     "metadata": {},
     "output_type": "execute_result"
    }
   ],
   "source": [
    "np.unique(ab)"
   ]
  },
  {
   "cell_type": "code",
   "execution_count": 84,
   "metadata": {},
   "outputs": [
    {
     "data": {
      "text/plain": [
       "<matplotlib.image.AxesImage at 0x115ccd1f0>"
      ]
     },
     "execution_count": 84,
     "metadata": {},
     "output_type": "execute_result"
    },
    {
     "data": {
      "image/png": "[encoded data removed]",
      "text/plain": [
       "<Figure size 432x288 with 1 Axes>"
      ]
     },
     "metadata": {
      "needs_background": "light"
     },
     "output_type": "display_data"
    }
   ],
   "source": [
    "plt.imshow(panel, cmap=\"tab10\")"
   ]
  },
  {
   "cell_type": "code",
   "execution_count": 60,
   "metadata": {},
   "outputs": [
    {
     "data": {
      "text/plain": [
       "(array([358.,   0.,   0.,   0.,   0.,   0.,   0., 365.,   0.,   0.,   0.,\n",
       "        279.,   0.,   0.,   0.,   0.,   0.,   0.,   0.,   0.,   0.,   0.,\n",
       "        318.,   0.,   0., 303.,   0.,   0.,   0.,   0.,   0.,   0.,   0.,\n",
       "          0., 359.,   0.,   0.,   0.,   0.,   0.,   0.,   0.,   0.,   0.,\n",
       "        334., 355.,   0.,   0.,   0.,   0.,   0.,   0.,   0.,   0.,   0.,\n",
       "          0.,   0., 333.,   0.,   0.,   0.,   0., 336.,   0.,   0.,   0.,\n",
       "          0.,   0.,   0.,   0.,   0.,   0.,   0.,   0.,   0.,   0.,   0.,\n",
       "          0.,   0.,   0.,   0., 362.,   0.,   0.,   0.,   0.,   0.,   0.,\n",
       "          0.,   0.,   0.,   0.,   0.,   0.,   0.,   0.,   0.,   0.,   0.,\n",
       "        348.]),\n",
       " array([1.        , 1.08708204, 1.17416408, 1.26124612, 1.34832816,\n",
       "        1.4354102 , 1.52249224, 1.60957428, 1.69665631, 1.78373835,\n",
       "        1.87082039, 1.95790243, 2.04498447, 2.13206651, 2.21914855,\n",
       "        2.30623059, 2.39331263, 2.48039467, 2.56747671, 2.65455875,\n",
       "        2.74164079, 2.82872283, 2.91580487, 3.0028869 , 3.08996894,\n",
       "        3.17705098, 3.26413302, 3.35121506, 3.4382971 , 3.52537914,\n",
       "        3.61246118, 3.69954322, 3.78662526, 3.8737073 , 3.96078934,\n",
       "        4.04787138, 4.13495342, 4.22203546, 4.30911749, 4.39619953,\n",
       "        4.48328157, 4.57036361, 4.65744565, 4.74452769, 4.83160973,\n",
       "        4.91869177, 5.00577381, 5.09285585, 5.17993789, 5.26701993,\n",
       "        5.35410197, 5.44118401, 5.52826604, 5.61534808, 5.70243012,\n",
       "        5.78951216, 5.8765942 , 5.96367624, 6.05075828, 6.13784032,\n",
       "        6.22492236, 6.3120044 , 6.39908644, 6.48616848, 6.57325052,\n",
       "        6.66033256, 6.7474146 , 6.83449663, 6.92157867, 7.00866071,\n",
       "        7.09574275, 7.18282479, 7.26990683, 7.35698887, 7.44407091,\n",
       "        7.53115295, 7.61823499, 7.70531703, 7.79239907, 7.87948111,\n",
       "        7.96656315, 8.05364519, 8.14072722, 8.22780926, 8.3148913 ,\n",
       "        8.40197334, 8.48905538, 8.57613742, 8.66321946, 8.7503015 ,\n",
       "        8.83738354, 8.92446558, 9.01154762, 9.09862966, 9.1857117 ,\n",
       "        9.27279374, 9.35987578, 9.44695781, 9.53403985, 9.62112189,\n",
       "        9.70820393]),\n",
       " <a list of 100 Patch objects>)"
      ]
     },
     "execution_count": 60,
     "metadata": {},
     "output_type": "execute_result"
    },
    {
     "data": {
      "image/png": "[encoded data removed]",
      "text/plain": [
       "<Figure size 432x288 with 1 Axes>"
      ]
     },
     "metadata": {
      "needs_background": "light"
     },
     "output_type": "display_data"
    }
   ],
   "source": [
    "plt.hist(ab, bins=100)"
   ]
  },
  {
   "cell_type": "code",
   "execution_count": 32,
   "metadata": {},
   "outputs": [],
   "source": [
    "a = get_a_random(7, size=40)\n",
    "b = get_b_from_a(a)"
   ]
  },
  {
   "cell_type": "code",
   "execution_count": null,
   "metadata": {},
   "outputs": [],
   "source": []
  }
 ],
 "metadata": {
  "kernelspec": {
   "display_name": "Python 3",
   "language": "python",
   "name": "python3"
  },
  "language_info": {
   "codemirror_mode": {
    "name": "ipython",
    "version": 3
   },
   "file_extension": ".py",
   "mimetype": "text/x-python",
   "name": "python",
   "nbconvert_exporter": "python",
   "pygments_lexer": "ipython3",
   "version": "3.8.3"
  }
 },
 "nbformat": 4,
 "nbformat_minor": 4
}
