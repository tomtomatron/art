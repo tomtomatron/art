{
 "cells": [
  {
   "cell_type": "code",
   "execution_count": 1,
   "metadata": {},
   "outputs": [],
   "source": [
    "import numpy as np\n",
    "import scipy\n",
    "import matplotlib.pyplot as plt"
   ]
  },
  {
   "cell_type": "code",
   "execution_count": 74,
   "metadata": {},
   "outputs": [],
   "source": [
    "def get_golden_ratio():\n",
    "    golden_ratio = (1 + np.sqrt(5)) /2\n",
    "    return golden_ratio\n",
    "\n",
    "def get_a_from_b(b):\n",
    "    golden_ratio = get_golden_ratio()\n",
    "    return b * golden_ratio\n",
    "\n",
    "def get_b_from_a(a):\n",
    "    golden_ratio = get_golden_ratio()\n",
    "    return a / golden_ratio\n",
    "\n",
    "def get_a_random(max_level, size=1):\n",
    "    bs = np.arange(1,max_level)\n",
    "    b = np.random.choice(bs, size)\n",
    "    a = get_a_from_b(b)\n",
    "    return a"
   ]
  },
  {
   "cell_type": "code",
   "execution_count": 76,
   "metadata": {},
   "outputs": [],
   "source": [
    "def get_peg_ids():\n",
    "    return ['A', 'B', 'C', 'D', 'E', 'F', 'G']\n",
    "\n",
    "def get_peg_counts():\n",
    "    return [4, 4, 4, 4, 8, 8, 8]\n",
    "\n",
    "def get_peg_lengths():\n",
    "    return [24, 13, 14, 20, 15, 8, 19]\n",
    "\n",
    "def get_peg_diameters():\n",
    "    return [4, 4, 4, 4, 4, 4, 4]\n",
    "\n",
    "def get_peg_radii():\n",
    "    diameters = get_peg_diameters()\n",
    "    radii = list(np.asarray(diameters) / 2)\n",
    "    return radii\n",
    "\n",
    "def get_peg_areas():\n",
    "    radii = get_peg_radii()\n",
    "    areas = 2 * np.pi * (np.asarray(radii)**2)\n",
    "    areas = list(areas)\n",
    "    return areas\n",
    "\n",
    "def get_total_area():\n",
    "    areas = get_peg_areas()\n",
    "    counts = get_peg_counts()\n",
    "    total_area = np.sum(np.dot(areas, counts))\n",
    "    return total_area\n",
    "\n",
    "def get_total_count():\n",
    "    counts = get_peg_counts()\n",
    "    total_count = sum(counts)\n",
    "    return total_count\n",
    "\n",
    "def get_all_peg_lengths():\n",
    "    counts = get_peg_counts()\n",
    "    lengths = get_peg_lengths()\n",
    "    all_peg_lengths = []\n",
    "    for i,count in enumerate(counts):\n",
    "        all_peg_lengths.extend([lengths[i]] * count)\n",
    "    return all_peg_lengths\n",
    "\n",
    "def get_all_peg_areas():\n",
    "    counts = get_peg_counts()\n",
    "    areas = get_peg_areas()\n",
    "    all_peg_areas = []\n",
    "    for i,count in enumerate(counts):\n",
    "        all_peg_areas.extend([areas[i]] * count)\n",
    "    return all_peg_areas\n",
    "\n",
    "def test_get_pegs():\n",
    "    ids = get_peg_ids()\n",
    "    counts = get_peg_counts()\n",
    "    lengths = get_peg_lengths()\n",
    "    diameters = get_peg_diameters()\n",
    "    radii = get_peg_radii()\n",
    "    areas = get_peg_areas()\n",
    "    assert len(ids) == len(counts)\n",
    "    assert len(counts) == len(lengths)\n",
    "    assert len(lengths) == len(diameters)\n",
    "    assert len(diameters) == len(radii)\n",
    "    assert len(areas) == len(radii)\n",
    "    \n",
    "    \n",
    "    \n",
    "def get_peg_dict():\n",
    "    peg_dict = dict()\n",
    "    ids = get_peg_ids()\n",
    "    counts = get_peg_counts()\n",
    "    lengths = get_peg_lengths()\n",
    "    radii = get_peg_radii()\n",
    "    diameters = get_peg_diameters()\n",
    "    areas = get_peg_areas()\n",
    "    total_area = get_total_area()\n",
    "    total_count = get_total_count()\n",
    "    all_peg_lengths = get_all_peg_lengths()\n",
    "    peg_dict['ids'] = ids\n",
    "    peg_dict['counts'] = counts\n",
    "    peg_dict['lengths'] = lengths\n",
    "    peg_dict['radii'] = radii\n",
    "    peg_dict['diameters'] = diameters\n",
    "    peg_dict['areas'] = areas\n",
    "    peg_dict['total_area'] = total_area\n",
    "    peg_dict['total_count'] = total_count\n",
    "    peg_dict['all_peg_lengths'] = all_peg_lengths\n",
    "    return peg_dict\n",
    "\n",
    "\n",
    "test_get_pegs()"
   ]
  },
  {
   "cell_type": "code",
   "execution_count": 102,
   "metadata": {},
   "outputs": [],
   "source": []
  },
  {
   "cell_type": "code",
   "execution_count": 168,
   "metadata": {},
   "outputs": [],
   "source": [
    "# Generally useful fibonacci sequence functions\n",
    "\n",
    "def a_plus_b_to_a(a_plus_b):\n",
    "    golden_ratio = get_golden_ratio()\n",
    "    a = golden_ratio * a_plus_b / (golden_ratio + 1)\n",
    "    return a\n",
    "\n",
    "def a_plus_b_to_b(a_plus_b):\n",
    "    golden_ratio = get_golden_ratio()\n",
    "    a = a_plus_b_to_a(a_plus_b)\n",
    "    b = a_plus_b - a\n",
    "    return b\n",
    "\n",
    "def get_fibonacci_sequence(n):\n",
    "    assert n > 2\n",
    "    x = [1, 1]\n",
    "    i = 2\n",
    "    while len(x) < n: \n",
    "        x.append(x[i-1] + x[i-2])\n",
    "        i += 1\n",
    "    return x\n",
    "\n",
    "def get_fibonacci_area_sequence(n):\n",
    "    fibonacci_sequence = get_fibonacci_sequence(n)\n",
    "    fibonacci_area_sequence = [x**2 for x in fibonacci_sequence]\n",
    "    return fibonacci_area_sequence\n",
    "\n",
    "def get_rapstine_sequence(n):\n",
    "    fibonacci_area_sequence = get_fibonacci_area_sequence(n)\n",
    "    rapstine_sequence = np.cumsum(fibonacci_area_sequence)\n",
    "    return rapstine_sequence"
   ]
  },
  {
   "cell_type": "code",
   "execution_count": 215,
   "metadata": {},
   "outputs": [],
   "source": [
    "# compute panel dimensions from fibonacci sequence areas\n",
    "def total_count_to_panel_width_and_height(total_count):\n",
    "    fibonacci_sequence = get_fibonacci_sequence(max_width)\n",
    "    fibonacci_area_sequence = get_fibonacci_area_sequence(max_width)\n",
    "    rapstine_sequence = get_rapstine_sequence(max_width)\n",
    "    i = np.argwhere(rapstine_sequence <= a_plus_b)[-1,0]\n",
    "    a = fibonacci_sequence[i]\n",
    "    b = fibonacci_sequence[i-1]\n",
    "    width = a + b\n",
    "    height = a\n",
    "    assert width * height == a_plus_b\n",
    "    assert np.sum(fibonacci_area_sequence[0:i+1]) == a_plus_b\n",
    "    return width, height"
   ]
  },
  {
   "cell_type": "code",
   "execution_count": 196,
   "metadata": {},
   "outputs": [],
   "source": [
    "# initialize dictionary of peg pieces \n",
    "peg_dict = get_peg_dict()"
   ]
  },
  {
   "cell_type": "code",
   "execution_count": 243,
   "metadata": {},
   "outputs": [],
   "source": [
    "# construct visually pleasing panel dimensions\n",
    "panel_width, panel_height = total_count_to_panel_width_and_height(peg_dict['total_count'])\n",
    "panel = np.random.permutation(peg_dict['all_peg_lengths'])\n",
    "panel = panel.reshape((panel_height, panel_width))"
   ]
  },
  {
   "cell_type": "code",
   "execution_count": 245,
   "metadata": {},
   "outputs": [
    {
     "data": {
      "image/png": "[encoded data removed]",
      "text/plain": [
       "<Figure size 432x288 with 2 Axes>"
      ]
     },
     "metadata": {
      "needs_background": "light"
     },
     "output_type": "display_data"
    }
   ],
   "source": [
    "# preview current panel with colors corresponding to peg lengths\n",
    "plt.imshow(panel)\n",
    "plt.title('Sound diffusion panel')\n",
    "plt.colorbar(label='peg lengths')\n",
    "plt.show()"
   ]
  }
 ],
 "metadata": {
  "kernelspec": {
   "display_name": "Python 3",
   "language": "python",
   "name": "python3"
  },
  "language_info": {
   "codemirror_mode": {
    "name": "ipython",
    "version": 3
   },
   "file_extension": ".py",
   "mimetype": "text/x-python",
   "name": "python",
   "nbconvert_exporter": "python",
   "pygments_lexer": "ipython3",
   "version": "3.8.3"
  }
 },
 "nbformat": 4,
 "nbformat_minor": 4
}
